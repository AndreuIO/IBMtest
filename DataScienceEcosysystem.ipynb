{
 "cells": [
  {
   "cell_type": "markdown",
   "id": "5fe6d9b3-fc1c-4bea-9d72-ed9e118d84ba",
   "metadata": {},
   "source": [
    "# Data Science Tools and Ecosystem"
   ]
  },
  {
   "cell_type": "markdown",
   "id": "890f9fbd-4593-44bd-ba22-5015afff73c3",
   "metadata": {},
   "source": [
    "In this notebook, Data Science Tools and Ecosystem are summarized."
   ]
  },
  {
   "cell_type": "markdown",
   "id": "f181c9b9-5ac1-4b14-b62b-b6ce96ac1089",
   "metadata": {},
   "source": [
    "Some of the popular languages that Data Scientists use are:\n",
    "1. Python\n",
    "2. Scala\n",
    "3. R"
   ]
  },
  {
   "cell_type": "markdown",
   "id": "8461f547-89d0-49c8-9dfc-8030be16aa07",
   "metadata": {},
   "source": [
    "Some of the commonly used libraries used by Data Scientists include:\n",
    "1. MatplotLib\n",
    "2. Pandas\n",
    "3. Numpy\n",
    "4. GGPLOT\n",
    "5. Carret"
   ]
  },
  {
   "cell_type": "markdown",
   "id": "f234e55a-9e7e-492b-adca-51dab5fe5022",
   "metadata": {},
   "source": [
    "| Data Science Tools |\n",
    "|--------------------|\n",
    "| JupyterLab(Jupyter)|\n",
    "| Rstudio            |\n",
    "| VScode             |"
   ]
  },
  {
   "cell_type": "markdown",
   "id": "be7f54e9-2a59-4fd5-9d13-0370bb46194d",
   "metadata": {},
   "source": [
    "### Below are a few examples of evaluating arithmetic expressions in Python.\n"
   ]
  },
  {
   "cell_type": "code",
   "execution_count": 26,
   "id": "302015c2-cd72-4e6f-b534-cee2b0843a17",
   "metadata": {},
   "outputs": [
    {
     "data": {
      "text/plain": [
       "17"
      ]
     },
     "execution_count": 26,
     "metadata": {},
     "output_type": "execute_result"
    }
   ],
   "source": [
    "#This a simple arithmetic expression to mutiply then add integers.\n",
    "(3*4)+5"
   ]
  },
  {
   "cell_type": "code",
   "execution_count": 30,
   "id": "4fc505da-3cdf-4712-8ca5-2c2c16981852",
   "metadata": {},
   "outputs": [
    {
     "name": "stdout",
     "output_type": "stream",
     "text": [
      "03:20\n"
     ]
    }
   ],
   "source": [
    "#This will convert 200 minutes to hours by diving by 60\n",
    "minutes = 200\n",
    "print(\"%02d:%02d\" % (divmod(minutes, 60)))"
   ]
  },
  {
   "cell_type": "markdown",
   "id": "8079312b-aaf6-4127-ab79-cd6edd109d5a",
   "metadata": {},
   "source": [
    "**Objectives:**\n",
    "\n",
    "* Popular Data science Languages\n",
    "* Commonly used Libraries in DS\n",
    "* Data Science Tools\n",
    "* Arithmetic expression to multiply and add integers\n",
    "* Convert minutes to hours"
   ]
  },
  {
   "cell_type": "markdown",
   "id": "7f5971f3-169e-41e8-9767-7cc0a9d96a2e",
   "metadata": {},
   "source": [
    "## Author:\n",
    "Awulu A. Andrew"
   ]
  },
  {
   "cell_type": "code",
   "execution_count": null,
   "id": "e1e5da91-ffe4-4bf6-b52e-c77461588691",
   "metadata": {},
   "outputs": [],
   "source": []
  }
 ],
 "metadata": {
  "kernelspec": {
   "display_name": "Python 3 (ipykernel)",
   "language": "python",
   "name": "python3"
  },
  "language_info": {
   "codemirror_mode": {
    "name": "ipython",
    "version": 3
   },
   "file_extension": ".py",
   "mimetype": "text/x-python",
   "name": "python",
   "nbconvert_exporter": "python",
   "pygments_lexer": "ipython3",
   "version": "3.10.9"
  }
 },
 "nbformat": 4,
 "nbformat_minor": 5
}
